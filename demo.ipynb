{
 "metadata": {
  "language_info": {
   "codemirror_mode": {
    "name": "ipython",
    "version": 3
   },
   "file_extension": ".py",
   "mimetype": "text/x-python",
   "name": "python",
   "nbconvert_exporter": "python",
   "pygments_lexer": "ipython3",
   "version": "3.8.6-final"
  },
  "orig_nbformat": 2,
  "kernelspec": {
   "name": "Python 3.8.6 64-bit ('GA': conda)",
   "display_name": "Python 3.8.6 64-bit ('GA': conda)",
   "metadata": {
    "interpreter": {
     "hash": "67b5ffe8fa84698aed0ded306144242ad23edde97663e6085a6603d851fccc82"
    }
   }
  }
 },
 "nbformat": 4,
 "nbformat_minor": 2,
 "cells": [
  {
   "cell_type": "code",
   "execution_count": 1,
   "metadata": {},
   "outputs": [
    {
     "output_type": "display_data",
     "data": {
      "text/plain": "Tab(children=(VBox(children=(FileChooser(path='.\\input', filename='', title='HTML(value='请选择输入文件：')', show_hid…",
      "application/vnd.jupyter.widget-view+json": {
       "version_major": 2,
       "version_minor": 0,
       "model_id": "74043fb9c13a4b1aae703f001476a0fe"
      }
     },
     "metadata": {}
    }
   ],
   "source": [
    "from app import TSP_app\n",
    "TSP_app()"
   ]
  },
  {
   "cell_type": "code",
   "execution_count": null,
   "metadata": {},
   "outputs": [],
   "source": []
  }
 ]
}