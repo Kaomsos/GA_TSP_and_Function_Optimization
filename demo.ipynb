{
 "metadata": {
  "language_info": {
   "codemirror_mode": {
    "name": "ipython",
    "version": 3
   },
   "file_extension": ".py",
   "mimetype": "text/x-python",
   "name": "python",
   "nbconvert_exporter": "python",
   "pygments_lexer": "ipython3",
   "version": "3.8.6-final"
  },
  "orig_nbformat": 2,
  "kernelspec": {
   "name": "Python 3.8.6 64-bit ('GA': conda)",
   "display_name": "Python 3.8.6 64-bit ('GA': conda)",
   "metadata": {
    "interpreter": {
     "hash": "67b5ffe8fa84698aed0ded306144242ad23edde97663e6085a6603d851fccc82"
    }
   }
  }
 },
 "nbformat": 4,
 "nbformat_minor": 2,
 "cells": [
  {
   "source": [
    "# 智能计算小组作业展示：遗传算法(GA)\n",
    "## 旅行商问题"
   ],
   "cell_type": "markdown",
   "metadata": {}
  },
  {
   "cell_type": "code",
   "execution_count": 1,
   "metadata": {},
   "outputs": [
    {
     "output_type": "display_data",
     "data": {
      "text/plain": "Tab(children=(VBox(children=(FileChooser(path='.\\input', filename='', title='HTML(value='请选择输入文件：')', show_hid…",
      "application/vnd.jupyter.widget-view+json": {
       "version_major": 2,
       "version_minor": 0,
       "model_id": "474ea0f31a2c47948303293d276ac37a"
      }
     },
     "metadata": {}
    }
   ],
   "source": [
    "from app1 import TSP_app\n",
    "TSP_app()"
   ]
  },
  {
   "source": [
    "## 函数优化\n",
    "$ f(x) = \\exp(-(x-0.1)^2)\\times\\sin^2(6\\pi x^{3/4}) $"
   ],
   "cell_type": "markdown",
   "metadata": {}
  },
  {
   "cell_type": "code",
   "execution_count": 2,
   "metadata": {},
   "outputs": [
    {
     "output_type": "display_data",
     "data": {
      "text/plain": "VBox(children=(VBox(children=(IntSlider(value=30, description='#Population', step=10), Button(description='Ini…",
      "application/vnd.jupyter.widget-view+json": {
       "version_major": 2,
       "version_minor": 0,
       "model_id": "75ad3b4cb4014ecca613547e9de0fab4"
      }
     },
     "metadata": {}
    }
   ],
   "source": [
    "from app2 import simple_optimazation_app\n",
    "simple_optimazation_app()"
   ]
  },
  {
   "source": [
    "$   $"
   ],
   "cell_type": "markdown",
   "metadata": {}
  }
 ]
}